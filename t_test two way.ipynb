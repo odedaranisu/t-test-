{
  "nbformat": 4,
  "nbformat_minor": 0,
  "metadata": {
    "colab": {
      "provenance": []
    },
    "kernelspec": {
      "name": "python3",
      "display_name": "Python 3"
    },
    "language_info": {
      "name": "python"
    }
  },
  "cells": [
    {
      "cell_type": "code",
      "execution_count": 1,
      "metadata": {
        "id": "9OYd0m0L7ZFp",
        "colab": {
          "base_uri": "https://localhost:8080/"
        },
        "outputId": "af7a9815-7545-4def-fac5-17c35180108a"
      },
      "outputs": [
        {
          "output_type": "execute_result",
          "data": {
            "text/plain": [
              "TtestResult(statistic=30.08809997084933, pvalue=1.3289196468727879e-28, df=39)"
            ]
          },
          "metadata": {},
          "execution_count": 1
        }
      ],
      "source": [
        "#T-Test\n",
        "#Type 1: One-Sample T-test\n",
        "#to compare the VIQ mean of a sample to a specific number or a population mean (the first example is 0).\n",
        "import pandas as pd\n",
        "from scipy import stats\n",
        "\n",
        "dataset = pd.read_csv('brain_size.csv', sep=';', na_values=\".\")\n",
        "stats.ttest_1samp(dataset['VIQ'], 0)\n",
        "\n"
      ]
    },
    {
      "cell_type": "code",
      "source": [
        "#Two-Sample T-Test\n",
        "#independent sample\n",
        "#compare the means of Female FSIQ and Male FSIQ.\n",
        "import pandas as pd\n",
        "from scipy import stats\n",
        "\n",
        "dataset = pd.read_csv('brain_size.csv', sep=';', na_values=\".\")\n",
        "female_fsiq = dataset[dataset['Gender'] == 'Female']['FSIQ']\n",
        "male_fsiq = dataset[dataset['Gender'] == 'Male']['FSIQ']\n",
        "stats.ttest_ind(female_fsiq, male_fsiq)\n"
      ],
      "metadata": {
        "colab": {
          "base_uri": "https://localhost:8080/"
        },
        "id": "-m0I0AxxD2Ll",
        "outputId": "6872ae22-ec44-44e9-f6d7-d31d2936bd09"
      },
      "execution_count": 2,
      "outputs": [
        {
          "output_type": "execute_result",
          "data": {
            "text/plain": [
              "TtestResult(statistic=-0.4026724743703011, pvalue=0.6894456253897778, df=38.0)"
            ]
          },
          "metadata": {},
          "execution_count": 2
        }
      ]
    },
    {
      "cell_type": "code",
      "source": [
        "#Matched Pair T-Test (or Repeated Measure of a Single Sample)\n",
        "# compare the means of VIQ and PIQ for the same individual\n",
        "import pandas as pd\n",
        "from scipy import stats\n",
        "\n",
        "dataset = pd.read_csv('brain_size.csv', sep=';', na_values=\".\")\n",
        "stats.ttest_rel(dataset['FSIQ'], dataset['PIQ'])\n"
      ],
      "metadata": {
        "colab": {
          "base_uri": "https://localhost:8080/"
        },
        "id": "EHF-2HDcEWwM",
        "outputId": "abea596c-85d2-445d-c309-22da23a21463"
      },
      "execution_count": 3,
      "outputs": [
        {
          "output_type": "execute_result",
          "data": {
            "text/plain": [
              "TtestResult(statistic=1.7842019405859857, pvalue=0.08217263818364236, df=39)"
            ]
          },
          "metadata": {},
          "execution_count": 3
        }
      ]
    },
    {
      "cell_type": "code",
      "source": [
        "#Two-Sample T-Test (Automatically general conclusion)\n",
        "#compare the means of Female FSIQ and Male FSIQ and automatically generate the conclusion.\n",
        "import pandas as pd\n",
        "from scipy import stats\n",
        "\n",
        "dataset = pd.read_csv('brain_size.csv', sep=';', na_values=\".\")\n",
        "female_fsiq = dataset[dataset['Gender'] == 'Female']['FSIQ']\n",
        "male_fsiq = dataset[dataset['Gender'] == 'Male']['FSIQ']\n",
        "\n",
        "t2, p = stats.ttest_ind(female_fsiq, male_fsiq)\n",
        "\n",
        "#two-tail 2-sample t-test\n",
        "alpha_half = 0.005 #alpha is 0.01 or level of confidence is 99%\n",
        "\n",
        "print(\"p value = {:g}\".format(p))\n",
        "print(\"t value = {:g}\". format(t2))\n",
        "\n",
        "if p < alpha_half:  # null hypothesis: x comes from a normal distribution\n",
        "    print(\"The null hypothesis can be rejected\")\n",
        "else:\n",
        "    print(\"The null hypothesis is accepted\")\n"
      ],
      "metadata": {
        "colab": {
          "base_uri": "https://localhost:8080/"
        },
        "id": "hzNBhGJ2En5P",
        "outputId": "372e0264-a135-4369-b0f9-c601fadca1a4"
      },
      "execution_count": 4,
      "outputs": [
        {
          "output_type": "stream",
          "name": "stdout",
          "text": [
            "p value = 0.689446\n",
            "t value = -0.402672\n",
            "The null hypothesis is accepted\n"
          ]
        }
      ]
    }
  ]
}